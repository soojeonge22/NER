{
  "nbformat": 4,
  "nbformat_minor": 0,
  "metadata": {
    "colab": {
      "name": "NER.ipynb",
      "provenance": [],
      "toc_visible": true,
      "authorship_tag": "ABX9TyOCLcD/242JXgLBg3Myhzy4"
    },
    "kernelspec": {
      "name": "python3",
      "display_name": "Python 3"
    },
    "language_info": {
      "name": "python"
    },
    "accelerator": "GPU"
  },
  "cells": [
    {
      "cell_type": "code",
      "source": [
        "from nltk import word_tokenize, pos_tag, ne_chunk\n",
        "\n",
        "sentence = \"James is working at Disney in London\"\n",
        "\n",
        "#tokenize & pos tagging\n",
        "tokenized_sentence = pos_tag(word_tokenize(sentence))\n",
        "print(tokenized_sentence)\n",
        "\n",
        "#ner\n",
        "ner_sentence = ne_chunk(tokenized_sentence)\n",
        "print(ner_sentence)\n"
      ],
      "metadata": {
        "colab": {
          "base_uri": "https://localhost:8080/"
        },
        "id": "wQV2rTQ585HL",
        "outputId": "5f46780e-c24b-434d-f459-a74e0bb9d4e3"
      },
      "execution_count": 34,
      "outputs": [
        {
          "output_type": "stream",
          "name": "stdout",
          "text": [
            "[('James', 'NNP'), ('is', 'VBZ'), ('working', 'VBG'), ('at', 'IN'), ('Disney', 'NNP'), ('in', 'IN'), ('London', 'NNP')]\n",
            "(S\n",
            "  (PERSON James/NNP)\n",
            "  is/VBZ\n",
            "  working/VBG\n",
            "  at/IN\n",
            "  (ORGANIZATION Disney/NNP)\n",
            "  in/IN\n",
            "  (GPE London/NNP))\n"
          ]
        }
      ]
    },
    {
      "cell_type": "code",
      "source": [
        "# NER using BiLSTM \n",
        "\n",
        "# retrieve training data\n",
        "\n",
        "import urllib.request \n",
        "\n",
        "urllib.request.urlretrieve(\"https://raw.githubusercontent.com/soojeonge22/NER/main/data/train.txt\", filename=\"train_ner.txt\")"
      ],
      "metadata": {
        "colab": {
          "base_uri": "https://localhost:8080/"
        },
        "id": "1tHF631QBTHP",
        "outputId": "796ee85a-2110-4c08-c8a6-bbe1386ebb2a"
      },
      "execution_count": 133,
      "outputs": [
        {
          "output_type": "execute_result",
          "data": {
            "text/plain": [
              "('train_ner.txt', <http.client.HTTPMessage at 0x7f91d590e090>)"
            ]
          },
          "metadata": {},
          "execution_count": 133
        }
      ]
    },
    {
      "cell_type": "code",
      "source": [
        "import re\n",
        "import numpy as np\n",
        "import matplotlib.pyplot as plt\n",
        "from tensorflow.keras.preprocessing.text import Tokenizer\n",
        "from tensorflow.keras.preprocessing.sequence import pad_sequences\n",
        "from tensorflow.keras.utils import to_categorical\n",
        "from sklearn.model_selection import train_test_split"
      ],
      "metadata": {
        "id": "rADec-E4JEsS"
      },
      "execution_count": 58,
      "outputs": []
    },
    {
      "cell_type": "code",
      "source": [
        "#preprocessing\n",
        "\n",
        "f = open('train_ner.txt', 'r')\n",
        "tagged_sentences = []\n",
        "sentence = []\n",
        "\n",
        "for line in f:\n",
        "    if len(line)==0 or line.startswith('-DOCSTART') or line[0]==\"\\n\":\n",
        "        if len(sentence) > 0:\n",
        "            tagged_sentences.append(sentence)\n",
        "            sentence = []\n",
        "        continue\n",
        "    splits = line.split(' ') # split attributes by space\n",
        "    splits[-1] = re.sub(r'\\n', '', splits[-1]) # remove \\n\n",
        "    word = splits[0].lower() # lower the letter\n",
        "    sentence.append([word, splits[-1]]) # store words and ner_tags"
      ],
      "metadata": {
        "id": "TVm6NO2rJLeN"
      },
      "execution_count": 85,
      "outputs": []
    },
    {
      "cell_type": "code",
      "source": [
        "print(\"total samples: \", len(tagged_sentences)) # print the total number of the samples"
      ],
      "metadata": {
        "colab": {
          "base_uri": "https://localhost:8080/"
        },
        "id": "4dzSoVBshnMb",
        "outputId": "4e7a3e6d-ce01-49cf-d006-50e2d72fbb19"
      },
      "execution_count": 99,
      "outputs": [
        {
          "output_type": "stream",
          "name": "stdout",
          "text": [
            "total samples:  14040\n"
          ]
        }
      ]
    },
    {
      "cell_type": "code",
      "source": [
        "print(tagged_sentences[0]) # print the first sample"
      ],
      "metadata": {
        "colab": {
          "base_uri": "https://localhost:8080/"
        },
        "id": "C_SdmbgHsHnR",
        "outputId": "68b2a257-944b-44b7-dfce-53a54818b1ed"
      },
      "execution_count": 100,
      "outputs": [
        {
          "output_type": "stream",
          "name": "stdout",
          "text": [
            "[['eu', 'B-ORG'], ['rejects', 'O'], ['german', 'B-MISC'], ['call', 'O'], ['to', 'O'], ['boycott', 'O'], ['british', 'B-MISC'], ['lamb', 'O'], ['.', 'O']]\n"
          ]
        }
      ]
    },
    {
      "cell_type": "code",
      "source": [
        "sentences, ner_tags = [], [] \n",
        "for tagged_sentence in tagged_sentences: # call sentence samples one by one (from the total of 14,040 sentence samples)\n",
        "    sentence, tag_info = zip(*tagged_sentence) # from each sample, store word info -> sentence, tagging info -> tag_info\n",
        "    sentences.append(list(sentence)) # store word_info into sentences[]\n",
        "    ner_tags.append(list(tag_info)) # store tag_info into ner_tags[]"
      ],
      "metadata": {
        "id": "1u-1GsxysNjT"
      },
      "execution_count": 101,
      "outputs": []
    },
    {
      "cell_type": "code",
      "source": [
        "print(sentences[0])   # word info\n",
        "print(ner_tags[0])    # ner_tag info corresponding to word_info"
      ],
      "metadata": {
        "colab": {
          "base_uri": "https://localhost:8080/"
        },
        "id": "_3nHJPhysQ0n",
        "outputId": "0533d4d8-6a50-43a4-bfcc-76e1b72f754a"
      },
      "execution_count": 102,
      "outputs": [
        {
          "output_type": "stream",
          "name": "stdout",
          "text": [
            "['eu', 'rejects', 'german', 'call', 'to', 'boycott', 'british', 'lamb', '.']\n",
            "['B-ORG', 'O', 'B-MISC', 'O', 'O', 'O', 'B-MISC', 'O', 'O']\n"
          ]
        }
      ]
    },
    {
      "cell_type": "code",
      "source": [
        "print(sentences[12])\n",
        "print(ner_tags[12])"
      ],
      "metadata": {
        "colab": {
          "base_uri": "https://localhost:8080/"
        },
        "id": "EYzrDoWwsUKs",
        "outputId": "ba9ff5f9-99e3-408e-e70e-154206928765"
      },
      "execution_count": 103,
      "outputs": [
        {
          "output_type": "stream",
          "name": "stdout",
          "text": [
            "['only', 'france', 'and', 'britain', 'backed', 'fischler', \"'s\", 'proposal', '.']\n",
            "['O', 'B-LOC', 'O', 'B-LOC', 'O', 'B-PER', 'O', 'O', 'O']\n"
          ]
        }
      ]
    },
    {
      "cell_type": "code",
      "source": [
        "print('the longest sample length : %d' % max(len(l) for l in sentences))\n",
        "print('the average sample length : %f' % (sum(map(len, sentences))/len(sentences)))\n",
        "plt.hist([len(s) for s in sentences], bins=50)\n",
        "plt.xlabel('length of samples')\n",
        "plt.ylabel('number of samples')\n",
        "plt.show()"
      ],
      "metadata": {
        "colab": {
          "base_uri": "https://localhost:8080/",
          "height": 315
        },
        "id": "qbaIcvmAsXvt",
        "outputId": "c766d0f6-21f6-4c54-b6e6-2474d0a90392"
      },
      "execution_count": 104,
      "outputs": [
        {
          "output_type": "stream",
          "name": "stdout",
          "text": [
            "the longest sample length : 113\n",
            "the average sample length : 14.502635\n"
          ]
        },
        {
          "output_type": "display_data",
          "data": {
            "text/plain": [
              "<Figure size 432x288 with 1 Axes>"
            ],
            "image/png": "[encoded data removed]"
          },
          "metadata": {
            "needs_background": "light"
          }
        }
      ]
    },
    {
      "cell_type": "code",
      "source": [
        "# preparing for the training data\n",
        "\n",
        "max_words = 4000\n",
        "\n",
        "src_tokenizer = Tokenizer(num_words=max_words, oov_token='OOV')\n",
        "src_tokenizer.fit_on_texts(sentences)\n",
        "tar_tokenizer = Tokenizer()\n",
        "tar_tokenizer.fit_on_texts(ner_tags)"
      ],
      "metadata": {
        "id": "kcD8000NsccU"
      },
      "execution_count": 105,
      "outputs": []
    },
    {
      "cell_type": "code",
      "source": [
        "vocab_size = max_words\n",
        "tag_size = len(tar_tokenizer.word_index) + 1\n",
        "print('vocab size : {}'.format(vocab_size))\n",
        "print('tag size : {}'.format(tag_size))"
      ],
      "metadata": {
        "colab": {
          "base_uri": "https://localhost:8080/"
        },
        "id": "h63vMWlgshdV",
        "outputId": "1dfcdf6e-527f-4b80-ad76-ff08e652853a"
      },
      "execution_count": 106,
      "outputs": [
        {
          "output_type": "stream",
          "name": "stdout",
          "text": [
            "vocab size : 4000\n",
            "tag size : 10\n"
          ]
        }
      ]
    },
    {
      "cell_type": "code",
      "source": [
        "X_train = src_tokenizer.texts_to_sequences(sentences)\n",
        "y_train = tar_tokenizer.texts_to_sequences(ner_tags)"
      ],
      "metadata": {
        "id": "xFTmiRT3sk51"
      },
      "execution_count": 107,
      "outputs": []
    },
    {
      "cell_type": "code",
      "source": [
        "print(X_train[0])\n",
        "print(y_train[0])"
      ],
      "metadata": {
        "colab": {
          "base_uri": "https://localhost:8080/"
        },
        "id": "9uLhmTiasoaC",
        "outputId": "40dce731-de64-4305-c870-eb2da184801d"
      },
      "execution_count": 108,
      "outputs": [
        {
          "output_type": "stream",
          "name": "stdout",
          "text": [
            "[989, 1, 205, 629, 7, 3939, 216, 1, 3]\n",
            "[4, 1, 7, 1, 1, 1, 7, 1, 1]\n"
          ]
        }
      ]
    },
    {
      "cell_type": "code",
      "source": [
        "index_to_word = src_tokenizer.index_word\n",
        "index_to_ner = tar_tokenizer.index_word"
      ],
      "metadata": {
        "id": "IfWuGZZ1sr3g"
      },
      "execution_count": 109,
      "outputs": []
    },
    {
      "cell_type": "code",
      "source": [
        "decoded = []\n",
        "for index in X_train[0] : # for the index in the first sample\n",
        "    decoded.append(index_to_word[index]) # decode the index into the word\n",
        "\n",
        "print('original sentence : {}'.format(sentences[0]))\n",
        "print('after changing the lower-frequency word to OOV : {}'.format(decoded))"
      ],
      "metadata": {
        "colab": {
          "base_uri": "https://localhost:8080/"
        },
        "id": "uf-4Vkzdsutf",
        "outputId": "eba306bb-9bb2-4cbb-c6b9-f91095b4d8a5"
      },
      "execution_count": 113,
      "outputs": [
        {
          "output_type": "stream",
          "name": "stdout",
          "text": [
            "original sentence : ['eu', 'rejects', 'german', 'call', 'to', 'boycott', 'british', 'lamb', '.']\n",
            "after changing the lower-frequency word to OOV : ['eu', 'OOV', 'german', 'call', 'to', 'boycott', 'british', 'OOV', '.']\n"
          ]
        }
      ]
    },
    {
      "cell_type": "code",
      "source": [
        "max_len = 70\n",
        "\n",
        "X_train = pad_sequences(X_train, padding='post', maxlen=max_len)\n",
        "y_train = pad_sequences(y_train, padding='post', maxlen=max_len)"
      ],
      "metadata": {
        "id": "f9DMhsnVsx7N"
      },
      "execution_count": 114,
      "outputs": []
    },
    {
      "cell_type": "code",
      "source": [
        "X_train, X_test, y_train, y_test = train_test_split(X_train, y_train, test_size=.2, random_state=777)"
      ],
      "metadata": {
        "id": "i-AcGV3Cs0fc"
      },
      "execution_count": 115,
      "outputs": []
    },
    {
      "cell_type": "code",
      "source": [
        "y_train = to_categorical(y_train, num_classes=tag_size)\n",
        "y_test = to_categorical(y_test, num_classes=tag_size)"
      ],
      "metadata": {
        "id": "e_Ia4dBhs3iV"
      },
      "execution_count": 116,
      "outputs": []
    },
    {
      "cell_type": "code",
      "source": [
        "print('training sentence size : {}'.format(X_train.shape))\n",
        "print('training label size : {}'.format(y_train.shape))\n",
        "print('test sentence size : {}'.format(X_test.shape))\n",
        "print('test label size : {}'.format(y_test.shape))"
      ],
      "metadata": {
        "colab": {
          "base_uri": "https://localhost:8080/"
        },
        "id": "MM8B7qXhs3ZO",
        "outputId": "7c340b0a-a1f7-4c4b-8870-c26338c112f1"
      },
      "execution_count": 117,
      "outputs": [
        {
          "output_type": "stream",
          "name": "stdout",
          "text": [
            "training sentence size : (11232, 70)\n",
            "training label size : (11232, 70, 10)\n",
            "test sentence size : (2808, 70)\n",
            "test label size : (2808, 70, 10)\n"
          ]
        }
      ]
    },
    {
      "cell_type": "code",
      "source": [
        "# ner taining starts\n",
        "\n",
        "from tensorflow.keras.models import Sequential\n",
        "from tensorflow.keras.layers import Dense, Embedding, LSTM, Bidirectional, TimeDistributed\n",
        "from tensorflow.keras.optimizers import Adam"
      ],
      "metadata": {
        "id": "wcWqvk56tCs1"
      },
      "execution_count": 119,
      "outputs": []
    },
    {
      "cell_type": "code",
      "source": [
        "model = Sequential()\n",
        "model.add(Embedding(input_dim=vocab_size, output_dim=128, input_length=max_len, mask_zero=True))\n",
        "model.add(Bidirectional(LSTM(256, return_sequences=True)))\n",
        "model.add(TimeDistributed(Dense(tag_size, activation='softmax')))"
      ],
      "metadata": {
        "id": "keDwOi_ItRtI"
      },
      "execution_count": 120,
      "outputs": []
    },
    {
      "cell_type": "code",
      "source": [
        "model.compile(loss='categorical_crossentropy', optimizer=Adam(0.001), metrics=['accuracy'])"
      ],
      "metadata": {
        "id": "sjwPnwDhtXdM"
      },
      "execution_count": 121,
      "outputs": []
    },
    {
      "cell_type": "code",
      "source": [
        "model.fit(X_train, y_train, batch_size=128, epochs=8,  validation_data=(X_test, y_test))"
      ],
      "metadata": {
        "colab": {
          "base_uri": "https://localhost:8080/"
        },
        "id": "p4qQlBM1taM8",
        "outputId": "35284482-63fa-48a4-f994-5c93279e3a2b"
      },
      "execution_count": 122,
      "outputs": [
        {
          "output_type": "stream",
          "name": "stdout",
          "text": [
            "Epoch 1/8\n",
            "88/88 [==============================] - 11s 49ms/step - loss: 0.1884 - accuracy: 0.8227 - val_loss: 0.1335 - val_accuracy: 0.8301\n",
            "Epoch 2/8\n",
            "88/88 [==============================] - 2s 21ms/step - loss: 0.1010 - accuracy: 0.8538 - val_loss: 0.0784 - val_accuracy: 0.8809\n",
            "Epoch 3/8\n",
            "88/88 [==============================] - 2s 28ms/step - loss: 0.0656 - accuracy: 0.9035 - val_loss: 0.0554 - val_accuracy: 0.9212\n",
            "Epoch 4/8\n",
            "88/88 [==============================] - 2s 23ms/step - loss: 0.0471 - accuracy: 0.9333 - val_loss: 0.0426 - val_accuracy: 0.9410\n",
            "Epoch 5/8\n",
            "88/88 [==============================] - 2s 21ms/step - loss: 0.0355 - accuracy: 0.9494 - val_loss: 0.0381 - val_accuracy: 0.9492\n",
            "Epoch 6/8\n",
            "88/88 [==============================] - 2s 21ms/step - loss: 0.0291 - accuracy: 0.9584 - val_loss: 0.0347 - val_accuracy: 0.9528\n",
            "Epoch 7/8\n",
            "88/88 [==============================] - 2s 21ms/step - loss: 0.0249 - accuracy: 0.9640 - val_loss: 0.0336 - val_accuracy: 0.9540\n",
            "Epoch 8/8\n",
            "88/88 [==============================] - 2s 21ms/step - loss: 0.0218 - accuracy: 0.9686 - val_loss: 0.0329 - val_accuracy: 0.9565\n"
          ]
        },
        {
          "output_type": "execute_result",
          "data": {
            "text/plain": [
              "<keras.callbacks.History at 0x7f925bc8bf90>"
            ]
          },
          "metadata": {},
          "execution_count": 122
        }
      ]
    },
    {
      "cell_type": "code",
      "source": [
        "print(\"\\n accuracy: %.4f\" % (model.evaluate(X_test, y_test)[1]))"
      ],
      "metadata": {
        "colab": {
          "base_uri": "https://localhost:8080/"
        },
        "id": "Eqvb4aogtm0O",
        "outputId": "c6012e95-f8a7-448c-dcd1-df7b5cb05ab4"
      },
      "execution_count": 123,
      "outputs": [
        {
          "output_type": "stream",
          "name": "stdout",
          "text": [
            "88/88 [==============================] - 1s 7ms/step - loss: 0.0329 - accuracy: 0.9565\n",
            "\n",
            " accuracy: 0.9565\n"
          ]
        }
      ]
    },
    {
      "cell_type": "code",
      "source": [
        "i=10 # index of test sample to check\n",
        "y_predicted = model.predict(np.array([X_test[i]])) # retrun y for the input test sample\n",
        "y_predicted = np.argmax(y_predicted, axis=-1) # convert the prob vector into the integer encoding\n",
        "true = np.argmax(y_test[i], -1) # convert one-hot vector into the integer encoding\n",
        "\n",
        "print(\"{:17}|{:8}|{}\".format(\"word\", \"actual\", \"predicted\"))\n",
        "print(35 * \"-\")\n",
        "\n",
        "for w, t, pred in zip(X_test[i], true, y_predicted[0]):\n",
        "    if w != 0: # except for PAD\n",
        "        print(\"{:17}: {:7} {}\".format(index_to_word[w], index_to_ner[t].upper(), index_to_ner[pred].upper()))"
      ],
      "metadata": {
        "colab": {
          "base_uri": "https://localhost:8080/"
        },
        "id": "00vD76XttsYl",
        "outputId": "312dcd68-8597-4548-af3d-f64631f8a629"
      },
      "execution_count": 129,
      "outputs": [
        {
          "output_type": "stream",
          "name": "stdout",
          "text": [
            "word             |actual  |predicted\n",
            "-----------------------------------\n",
            "sarah            : B-PER   B-PER\n",
            "brady            : I-PER   I-PER\n",
            ",                : O       O\n",
            "whose            : O       O\n",
            "republican       : B-MISC  B-MISC\n",
            "husband          : O       O\n",
            "was              : O       O\n",
            "OOV              : O       O\n",
            "OOV              : O       O\n",
            "in               : O       O\n",
            "an               : O       O\n",
            "OOV              : O       O\n",
            "attempt          : O       O\n",
            "on               : O       O\n",
            "president        : O       O\n",
            "ronald           : B-PER   B-PER\n",
            "reagan           : I-PER   I-PER\n",
            ",                : O       O\n",
            "took             : O       O\n",
            "centre           : O       O\n",
            "stage            : O       O\n",
            "at               : O       O\n",
            "the              : O       O\n",
            "democratic       : B-MISC  B-MISC\n",
            "national         : I-MISC  I-MISC\n",
            "convention       : I-MISC  I-MISC\n",
            "on               : O       O\n",
            "monday           : O       O\n",
            "night            : O       O\n",
            "to               : O       O\n",
            "OOV              : O       O\n",
            "president        : O       O\n",
            "bill             : B-PER   B-PER\n",
            "clinton          : I-PER   I-PER\n",
            "'s               : O       O\n",
            "gun              : O       O\n",
            "control          : O       O\n",
            "efforts          : O       O\n",
            ".                : O       O\n"
          ]
        }
      ]
    }
  ]
}